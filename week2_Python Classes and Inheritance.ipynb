{
  "nbformat": 4,
  "nbformat_minor": 0,
  "metadata": {
    "accelerator": "GPU",
    "colab": {
      "name": "week2.ipynb",
      "provenance": [],
      "collapsed_sections": [],
      "authorship_tag": "ABX9TyP9URfPepZvjo76uW67rwqt",
      "include_colab_link": true
    },
    "kernelspec": {
      "display_name": "Python 3",
      "name": "python3"
    }
  },
  "cells": [
    {
      "cell_type": "markdown",
      "metadata": {
        "id": "view-in-github",
        "colab_type": "text"
      },
      "source": [
        "<a href=\"https://colab.research.google.com/github/hanyeh00/coursera_exercise/blob/main/week2_Python%20Classes%20and%20Inheritance.ipynb\" target=\"_parent\"><img src=\"https://colab.research.google.com/assets/colab-badge.svg\" alt=\"Open In Colab\"/></a>"
      ]
    },
    {
      "cell_type": "code",
      "metadata": {
        "colab": {
          "base_uri": "https://localhost:8080/"
        },
        "id": "eM-zecY5bMUx",
        "outputId": "1a3e9aff-3ccf-4254-b7b7-905784ee70eb"
      },
      "source": [
        "f=4.5\n",
        "i=4\n",
        "print('our first value is float {} . our second value is {}'. format(f,i)) \n",
        "\n",
        "print('{} {}'.format(i,f))"
      ],
      "execution_count": null,
      "outputs": [
        {
          "output_type": "stream",
          "text": [
            "our first value is float 4.5 . our second value is 4\n",
            "4 4.5\n"
          ],
          "name": "stdout"
        }
      ]
    },
    {
      "cell_type": "code",
      "metadata": {
        "id": "wPsotPJ0bMm2"
      },
      "source": [
        ""
      ],
      "execution_count": null,
      "outputs": []
    },
    {
      "cell_type": "markdown",
      "metadata": {
        "id": "VsKmpvRWdj-_"
      },
      "source": [
        "#conditional sentences"
      ]
    },
    {
      "cell_type": "code",
      "metadata": {
        "colab": {
          "base_uri": "https://localhost:8080/"
        },
        "id": "QwoL_wZZbMqG",
        "outputId": "aca843f4-4881-43e4-ab17-8792fa6d1364"
      },
      "source": [
        "if f==4.5 and i>4:\n",
        "  print('i') \n",
        "elif f==4 and i>2:\n",
        "  print('{}'.format(i))\n",
        "elif f==4.5 and i>7:\n",
        "  print('{}'.format(f))\n",
        "else:\n",
        "  print('none')"
      ],
      "execution_count": null,
      "outputs": [
        {
          "output_type": "stream",
          "text": [
            "none\n"
          ],
          "name": "stdout"
        }
      ]
    },
    {
      "cell_type": "code",
      "metadata": {
        "colab": {
          "base_uri": "https://localhost:8080/"
        },
        "id": "AnGs4s2ddocZ",
        "outputId": "6ae50886-1b56-47f4-ab45-cd88e943b2e1"
      },
      "source": [
        "l"
      ],
      "execution_count": null,
      "outputs": [
        {
          "output_type": "execute_result",
          "data": {
            "text/plain": [
              "[1, 2, 3, 'f']"
            ]
          },
          "metadata": {
            "tags": []
          },
          "execution_count": 27
        }
      ]
    },
    {
      "cell_type": "code",
      "metadata": {
        "colab": {
          "base_uri": "https://localhost:8080/"
        },
        "id": "evKXve_IdofQ",
        "outputId": "456ba55e-17ef-49d8-f3d4-2123b6dad8ce"
      },
      "source": [
        "for element in l:\n",
        "  print(element)"
      ],
      "execution_count": null,
      "outputs": [
        {
          "output_type": "stream",
          "text": [
            "1\n",
            "2\n",
            "3\n",
            "f\n"
          ],
          "name": "stdout"
        }
      ]
    },
    {
      "cell_type": "code",
      "metadata": {
        "colab": {
          "base_uri": "https://localhost:8080/"
        },
        "id": "e8Ln9w4SdoiQ",
        "outputId": "0d128cd2-bc13-4fa5-a681-1b188c8eba14"
      },
      "source": [
        "counter=6\n",
        "while counter <10:\n",
        "  print(counter)\n",
        "  counter +=1"
      ],
      "execution_count": null,
      "outputs": [
        {
          "output_type": "stream",
          "text": [
            "6\n",
            "7\n",
            "8\n",
            "9\n"
          ],
          "name": "stdout"
        }
      ]
    },
    {
      "cell_type": "code",
      "metadata": {
        "id": "R25rCCHSga2f"
      },
      "source": [
        "t1=['apple','cheases','moon']\n",
        "t2=[1,2,3]\n",
        "t=[]\n",
        "t2.extend(t1)\n",
        "t2.pop(3)\n",
        "del (t2 [1])\n",
        "t2.remove(1)"
      ],
      "execution_count": null,
      "outputs": []
    },
    {
      "cell_type": "code",
      "metadata": {
        "colab": {
          "base_uri": "https://localhost:8080/"
        },
        "id": "wVoZE40YX1_F",
        "outputId": "c3fab02c-48f5-4422-d7c3-637c7ca7f5cf"
      },
      "source": [
        "# convert stringto list\n",
        "\n",
        "s='spam'\n",
        "p=list (s)\n",
        "l=[]\n",
        "for i in s:\n",
        "  l.append(i)\n",
        "print (l)\n",
        "print(p)"
      ],
      "execution_count": null,
      "outputs": [
        {
          "output_type": "stream",
          "text": [
            "['s', 'p', 'a', 'm']\n"
          ],
          "name": "stdout"
        }
      ]
    },
    {
      "cell_type": "code",
      "metadata": {
        "colab": {
          "base_uri": "https://localhost:8080/"
        },
        "id": "LLy48mK5X55b",
        "outputId": "d1ead3f0-3903-44bf-9cf7-d16a3f02f65c"
      },
      "source": [
        "s2='print,ing,for,jobs'\n",
        "s2.split(',')"
      ],
      "execution_count": null,
      "outputs": [
        {
          "output_type": "execute_result",
          "data": {
            "text/plain": [
              "['print', 'ing', 'for', 'jobs']"
            ]
          },
          "metadata": {
            "tags": []
          },
          "execution_count": 52
        }
      ]
    },
    {
      "cell_type": "code",
      "metadata": {
        "colab": {
          "base_uri": "https://localhost:8080/"
        },
        "id": "8YYQvkQ1X58W",
        "outputId": "72941651-2c8e-4071-b19b-111b8e7f0478"
      },
      "source": [
        "class P():\n",
        "  pass\n",
        "\n",
        "p=P()\n",
        "t=P()\n",
        "p is t"
      ],
      "execution_count": null,
      "outputs": [
        {
          "output_type": "execute_result",
          "data": {
            "text/plain": [
              "False"
            ]
          },
          "metadata": {
            "tags": []
          },
          "execution_count": 53
        }
      ]
    },
    {
      "cell_type": "code",
      "metadata": {
        "colab": {
          "base_uri": "https://localhost:8080/"
        },
        "id": "qUTSilvXeOYT",
        "outputId": "4e08e878-6e56-47af-8d14-7bf71420f651"
      },
      "source": [
        "r='a'\n",
        "b='a'\n",
        "r is b"
      ],
      "execution_count": null,
      "outputs": [
        {
          "output_type": "execute_result",
          "data": {
            "text/plain": [
              "True"
            ]
          },
          "metadata": {
            "tags": []
          },
          "execution_count": 54
        }
      ]
    },
    {
      "cell_type": "code",
      "metadata": {
        "colab": {
          "base_uri": "https://localhost:8080/"
        },
        "id": "bbCQILwxeObo",
        "outputId": "cc9734c3-8a93-428d-c86d-21493c314bda"
      },
      "source": [
        "a=[1,2,3]\n",
        "b=a\n",
        "a[0]=0\n",
        "b\n",
        "# بهتر نام مستعار برای شی های تغییر پذیر مثل لیست صورتنگیرد در این ضورت تغییر روی یک شی رو دیگری اثر دارد\n"
      ],
      "execution_count": null,
      "outputs": [
        {
          "output_type": "execute_result",
          "data": {
            "text/plain": [
              "[0, 2, 3]"
            ]
          },
          "metadata": {
            "tags": []
          },
          "execution_count": 57
        }
      ]
    },
    {
      "cell_type": "code",
      "metadata": {
        "id": "3-85h72ye5Lp"
      },
      "source": [
        "def delet(l):\n",
        "  l.pop(0)\n",
        "letter=['l',0,1,2]\n",
        "delet(letter)"
      ],
      "execution_count": null,
      "outputs": []
    },
    {
      "cell_type": "code",
      "metadata": {
        "id": "qYUkCvvNe5hw"
      },
      "source": [
        ""
      ],
      "execution_count": null,
      "outputs": []
    },
    {
      "cell_type": "code",
      "metadata": {
        "id": "3sW2S71ZeOuK"
      },
      "source": [
        ""
      ],
      "execution_count": null,
      "outputs": []
    },
    {
      "cell_type": "markdown",
      "metadata": {
        "id": "rW3noGmrg0ZN"
      },
      "source": [
        "#Inheriting Variables and Methods:\n"
      ]
    },
    {
      "cell_type": "code",
      "metadata": {
        "id": "btu347Yrh6rn",
        "colab": {
          "base_uri": "https://localhost:8080/"
        },
        "outputId": "8f13a6ae-4ed1-4187-ce41-74d8d7af6f6f"
      },
      "source": [
        "Current_year=1990\n",
        "class Person():\n",
        "  def __init__(self,name,year_born):\n",
        "    self.name=name\n",
        "    self.born=year_born\n",
        "  def Get_age(self):\n",
        "    return ( Current_year - self.born )\n",
        "  def __str__(self):\n",
        "    return (\"{},{}\".format(self.name,self.Get_age()))\n",
        "\n",
        "class Student(Person):\n",
        "  def __init__(self,name, year_born,term):\n",
        "    self.term=term\n",
        "    Person.__init__(self,name,year_born)\n",
        "    #print(x)\n",
        "    self.knowledge=0\n",
        "  def study(self):\n",
        "    self.knowledge+=1\n",
        "    self.term+=1\n",
        "\n",
        "\n",
        "person1=Person('Dlice',1964)\n",
        "person2=Student('David',1965,1)\n",
        "print(person1)\n",
        "print(person2)\n",
        "person2.study()\n",
        "print(person2.knowledge,person2.term)\n"
      ],
      "execution_count": 5,
      "outputs": [
        {
          "output_type": "stream",
          "text": [
            "Dlice,26\n",
            "David,25\n",
            "1 2\n"
          ],
          "name": "stdout"
        }
      ]
    },
    {
      "cell_type": "code",
      "metadata": {
        "colab": {
          "base_uri": "https://localhost:8080/"
        },
        "id": "RZQChq1AvYir",
        "outputId": "2f86be47-e8c7-4753-d44a-5335e420bd64"
      },
      "source": [
        "print(person2)"
      ],
      "execution_count": null,
      "outputs": [
        {
          "output_type": "stream",
          "text": [
            "David,2\n"
          ],
          "name": "stdout"
        }
      ]
    },
    {
      "cell_type": "markdown",
      "metadata": {
        "id": "IEWJpdjUpUJ8"
      },
      "source": [
        "# Overriding Methods"
      ]
    },
    {
      "cell_type": "code",
      "metadata": {
        "id": "dhohXTG7pVv7"
      },
      "source": [
        "class Book():\n",
        "  def __init__(self,author,title):\n",
        "    self.author=author\n",
        "    self.title=title\n",
        "  def __str__(self):\n",
        "    return (\"{} wrote {}\".format(self.author,self.title))\n",
        "\n",
        "class PaperBook(Book):\n",
        "  def __init__(self,author,title,numpages):\n",
        "    #Person.__init__(self,name,year_born)\n",
        "    Book.__init__(self,author,title)\n",
        "    self.numpages=numpages\n",
        "\n",
        "class Ebooks(Book):\n",
        "  def __init__(self,author,title,capacity):\n",
        "    Book.__init__(self,author,title)\n",
        "    self.capacity=capacity\n",
        "\n",
        "class Library:\n",
        "  def __init__(self):\n",
        "    self.books=[]\n",
        "  def gets_book(self,name):\n",
        "    self.books.append(name)\n",
        "    return  self.books\n",
        "  def number_of_books(self):\n",
        "    return (len(self.books))\n",
        "\n",
        "\n"
      ],
      "execution_count": 47,
      "outputs": []
    },
    {
      "cell_type": "code",
      "metadata": {
        "id": "8edlEsNwwq6p"
      },
      "source": [
        "Mybook=Book('lee','wea')\n",
        "Mybook2=PaperBook('hi','wea',152)# seprated sub classes\n",
        "Mybook3=Ebooks('ko','year',200) # seprated sub classes"
      ],
      "execution_count": 48,
      "outputs": []
    },
    {
      "cell_type": "code",
      "metadata": {
        "id": "Hfzq6JjEwrSR"
      },
      "source": [
        "addbook=Library()"
      ],
      "execution_count": 49,
      "outputs": []
    },
    {
      "cell_type": "code",
      "metadata": {
        "colab": {
          "base_uri": "https://localhost:8080/"
        },
        "id": "rr66uTjGxp6Y",
        "outputId": "8d331af6-53c5-4706-8f1d-4e485b665fa7"
      },
      "source": [
        "addbook.gets_book(Mybook2)\n",
        "addbook.gets_book(Mybook3)"
      ],
      "execution_count": 50,
      "outputs": [
        {
          "output_type": "execute_result",
          "data": {
            "text/plain": [
              "[<__main__.PaperBook at 0x7f4723bbdac8>, <__main__.Ebooks at 0x7f4723bbd278>]"
            ]
          },
          "metadata": {
            "tags": []
          },
          "execution_count": 50
        }
      ]
    },
    {
      "cell_type": "code",
      "metadata": {
        "colab": {
          "base_uri": "https://localhost:8080/"
        },
        "id": "D2HLl7-vuCd-",
        "outputId": "e4b52a2d-76e6-46ff-beec-96a8eab06103"
      },
      "source": [
        "addbook.number_of_books()"
      ],
      "execution_count": 51,
      "outputs": [
        {
          "output_type": "execute_result",
          "data": {
            "text/plain": [
              "2"
            ]
          },
          "metadata": {
            "tags": []
          },
          "execution_count": 51
        }
      ]
    },
    {
      "cell_type": "code",
      "metadata": {
        "id": "7jc2zWr_6F6e"
      },
      "source": [
        "s=addbook.gets_book(Mybook)"
      ],
      "execution_count": 52,
      "outputs": []
    },
    {
      "cell_type": "code",
      "metadata": {
        "colab": {
          "base_uri": "https://localhost:8080/"
        },
        "id": "YyTr3_Mu6GVT",
        "outputId": "cf5dccd3-e942-4469-963a-0e340675a908"
      },
      "source": [
        "print(s)"
      ],
      "execution_count": 53,
      "outputs": [
        {
          "output_type": "stream",
          "text": [
            "[<__main__.PaperBook object at 0x7f4723bbdac8>, <__main__.Ebooks object at 0x7f4723bbd278>, <__main__.Book object at 0x7f4723bbda90>]\n"
          ],
          "name": "stdout"
        }
      ]
    },
    {
      "cell_type": "markdown",
      "metadata": {
        "id": "U1o7feKQ79Lx"
      },
      "source": [
        "# Invoking the Parent Class's Method"
      ]
    },
    {
      "cell_type": "code",
      "metadata": {
        "id": "N-isrir76m6P"
      },
      "source": [
        "class Pet(object):\n",
        "    def __init__(self, name, animal_type, age):\n",
        "        self.__name = name\n",
        "        self.__animal_type = animal_type\n",
        "        self.__age = age\n",
        "        \n",
        "    def set_name(self, name):\n",
        "        self.__name = name\n",
        "\n",
        "    def set_type(self, animal_type):\n",
        "        self.__animal_type = animal_type\n",
        "\n",
        "    def set_age(self, age):\n",
        "        self.__age = age\n",
        "\n",
        "    def get_name(self):\n",
        "        return self.__name\n",
        "\n",
        "    def get_animal_type(self):\n",
        "        return self.__animal_type\n",
        "\n",
        "    def get__age(self):\n",
        "        return self.__age\n"
      ],
      "execution_count": 55,
      "outputs": []
    },
    {
      "cell_type": "code",
      "metadata": {
        "id": "miiGMxDu6nJ0"
      },
      "source": [
        ""
      ],
      "execution_count": null,
      "outputs": []
    },
    {
      "cell_type": "code",
      "metadata": {
        "id": "g4jBZrw36nVm"
      },
      "source": [
        ""
      ],
      "execution_count": null,
      "outputs": []
    },
    {
      "cell_type": "code",
      "metadata": {
        "id": "diV8fdKJ6njf"
      },
      "source": [
        ""
      ],
      "execution_count": null,
      "outputs": []
    },
    {
      "cell_type": "markdown",
      "metadata": {
        "id": "P_yQSpyC-qm0"
      },
      "source": [
        "#### The class, Pokemon, is provided below and describes a Pokemon and its leveling and evolving characteristics. An instance of the class is one pokemon that you create.\n",
        "\n",
        "Grass_Pokemon is a subclass that inherits from Pokemon but changes some aspects, for instance, the boost values are different.\n",
        "\n",
        "For the subclass Grass_Pokemon, add another method called action that returns the string \"[name of pokemon] knows a lot of different moves!\". Create an instance of this class with the name as \"Belle\". Assign this instance to the variable p1."
      ]
    },
    {
      "cell_type": "code",
      "metadata": {
        "id": "2EG271gIuCxV"
      },
      "source": [
        "class Pokemon(object):\n",
        "    attack = 12\n",
        "    defense = 10\n",
        "    health = 15\n",
        "    p_type = \"Normal\"\n",
        "\n",
        "    def __init__(self, name, level = 5):\n",
        "        self.name = name\n",
        "        self.level = level\n",
        "\n",
        "    def train(self):\n",
        "        self.update()\n",
        "        self.attack_up()\n",
        "        self.defense_up()\n",
        "        self.health_up()\n",
        "        self.level = self.level + 1\n",
        "        if self.level%self.evolve == 0:\n",
        "            return self.level, \"Evolved!\"\n",
        "        else:\n",
        "            return self.level\n",
        "\n",
        "    def attack_up(self):\n",
        "        self.attack = self.attack + self.attack_boost\n",
        "        return self.attack\n",
        "\n",
        "    def defense_up(self):\n",
        "        self.defense = self.defense + self.defense_boost\n",
        "        return self.defense\n",
        "\n",
        "    def health_up(self):\n",
        "        self.health = self.health + self.health_boost\n",
        "        return self.health\n",
        "\n",
        "    def update(self):\n",
        "        self.health_boost = 5\n",
        "        self.attack_boost = 3\n",
        "        self.defense_boost = 2\n",
        "        self.evolve = 10\n",
        "\n",
        "   # def __str__(self):\n",
        "    #    self.update()\n",
        "     #   return \"Pokemon name: {}, Type: {}, Level: {}\".format(self.name, self.p_type, self.level)\n",
        "\n",
        "class Grass_Pokemon(Pokemon):\n",
        "    #Pokemon.__init__(self, name, level = 5)\n",
        "    attack = 15\n",
        "    defense = 14\n",
        "    health = 12\n",
        "\n",
        "    def update(self):\n",
        "        self.health_boost = 6\n",
        "        self.attack_boost = 2\n",
        "        self.defense_boost = 3\n",
        "        self.evolve = 12\n",
        "\n",
        "    def moves(self):\n",
        "        self.p_moves = [\"razor leaf\", \"synthesis\", \"petal dance\"]\n",
        "    def action (self):\n",
        "        return  self.name+\" knows a lot of different moves!\"\n",
        "\n",
        "\n",
        "p1 = Grass_Pokemon('Belle', 5)\n"
      ],
      "execution_count": 63,
      "outputs": []
    },
    {
      "cell_type": "code",
      "metadata": {
        "colab": {
          "base_uri": "https://localhost:8080/"
        },
        "id": "5qAELQ4GCeFd",
        "outputId": "95f48816-379b-478b-c8a7-65b98b456a65"
      },
      "source": [
        ""
      ],
      "execution_count": 64,
      "outputs": [
        {
          "output_type": "stream",
          "text": [
            "<__main__.Grass_Pokemon object at 0x7f472ba80320>\n"
          ],
          "name": "stdout"
        }
      ]
    },
    {
      "cell_type": "markdown",
      "metadata": {
        "id": "fQKvyNgwDlAX"
      },
      "source": [
        "### Modify the **Grass_Pokemon** subclass so that the attack strength for Grass_Pokemon instances does not change until they reach level 10. At level 10 and up, their **attack strength** should increase by the attack_boost amount when they are trained.\n",
        "\n",
        "### To test, create an instance of the class with the name as \"Bulby\". Assign the instance to the variable **p2**. Create another instance of the Grass_Pokemon class with the name set to \"Pika\" and assign that instance to the variable p3. Then, use **Grass_Pokemon** methods to train the **p3** Grass_Pokemon instance until it reaches at least level 10."
      ]
    },
    {
      "cell_type": "code",
      "metadata": {
        "id": "miE4AIBdD6E-"
      },
      "source": [
        "class Pokemon(object):\n",
        "    attack = 12\n",
        "    defense = 10\n",
        "    health = 15\n",
        "    p_type = \"Normal\"\n",
        "\n",
        "    def __init__(self, name, level = 5):\n",
        "        self.name = name\n",
        "        self.level = level\n",
        "\n",
        "    def train(self):\n",
        "        self.update()\n",
        "        self.attack_up()\n",
        "        self.defense_up()\n",
        "        self.health_up()\n",
        "        self.level = self.level + 1\n",
        "        if self.level%self.evolve == 0:\n",
        "            return self.level, \"Evolved!\"\n",
        "        else:\n",
        "            return self.level\n",
        "\n",
        "    def attack_up(self):\n",
        "        self.attack = self.attack + self.attack_boost\n",
        "        return self.attack\n",
        "\n",
        "    def defense_up(self):\n",
        "        self.defense = self.defense + self.defense_boost\n",
        "        return self.defense\n",
        "\n",
        "    def health_up(self):\n",
        "        self.health = self.health + self.health_boost\n",
        "        return self.health\n",
        "\n",
        "    def update(self):\n",
        "        self.health_boost = 5\n",
        "        self.attack_boost = 3\n",
        "        self.defense_boost = 2\n",
        "        self.evolve = 10\n",
        "\n",
        "    def __str__(self):\n",
        "        return \"Pokemon name: {}, Type: {}, Level: {}\".format(self.name, self.p_type, self.level)\n",
        "\n",
        "class Grass_Pokemon(Pokemon):\n",
        "    attack = 15\n",
        "    defense = 14\n",
        "    health = 12\n",
        "    p_type = \"Grass\"\n",
        "\n",
        "    def update(self):\n",
        "        self.health_boost = 6\n",
        "        self.attack_boost = 2\n",
        "        self.defense_boost = 3\n",
        "        self.evolve = 12\n",
        "\n",
        "    def moves(self):\n",
        "        self.p_moves = [\"razor leaf\", \"synthesis\", \"petal dance\"]\n",
        "\n",
        "\n"
      ],
      "execution_count": 65,
      "outputs": []
    },
    {
      "cell_type": "code",
      "metadata": {
        "colab": {
          "base_uri": "https://localhost:8080/"
        },
        "id": "o7ISEUpVFAAW",
        "outputId": "8b1c288d-00e4-4b39-f0eb-bd4c523aecf2"
      },
      "source": [
        "p2 = Grass_Pokemon(\"Bulby\", level = 5)\n",
        "p3 = Grass_Pokemon(\"Pika\", level = 5)\n",
        "p3.train()"
      ],
      "execution_count": 66,
      "outputs": [
        {
          "output_type": "execute_result",
          "data": {
            "text/plain": [
              "6"
            ]
          },
          "metadata": {
            "tags": []
          },
          "execution_count": 66
        }
      ]
    },
    {
      "cell_type": "markdown",
      "metadata": {
        "id": "JiBxMZBWFh9j"
      },
      "source": [
        "[link text](https://)\n",
        "Along with the Pokemon parent class, we have also provided several subclasses. Write another method in the parent class that will be inherited by the subclasses. Call it opponent. It should return which type of pokemon the current type is weak and strong against, as a tuple.\n",
        "\n",
        "    *Grass is weak against Fire and strong against Water\n",
        "\n",
        "    *Ghost is weak against Dark and strong against Psychic\n",
        "\n",
        "    *Fire is weak against Water and strong against Grass\n",
        "\n",
        "    *Flying is weak against Electric and strong against Fighting\n",
        "\n",
        "For example, if the p_type of the subclass is 'Grass', .opponent() should return the tuple ('Fire', 'Water')"
      ]
    },
    {
      "cell_type": "code",
      "metadata": {
        "id": "A4WsBbL7FADu"
      },
      "source": [
        "class Pokemon():\n",
        "    attack = 12\n",
        "    defense = 10\n",
        "    health = 15\n",
        "    p_type = \"Normal\"\n",
        "\n",
        "    def __init__(self, name,level = 5):\n",
        "        self.name = name\n",
        "        self.level = level\n",
        "        self.weak = \"Normal\"\n",
        "        self.strong = \"Normal\"\n",
        "\n",
        "    def train(self):\n",
        "        self.update()\n",
        "        self.attack_up()\n",
        "        self.defense_up()\n",
        "        self.health_up()\n",
        "        self.level = self.level + 1\n",
        "        if self.level%self.evolve == 0:\n",
        "            return self.level, \"Evolved!\"\n",
        "        else:\n",
        "            return self.level\n",
        "\n",
        "    def attack_up(self):\n",
        "        self.attack = self.attack + self.attack_boost\n",
        "        return self.attack\n",
        "\n",
        "    def defense_up(self):\n",
        "        self.defense = self.defense + self.defense_boost\n",
        "        return self.defense\n",
        "\n",
        "    def health_up(self):\n",
        "        self.health = self.health + self.health_boost\n",
        "        return self.health\n",
        "\n",
        "    def update(self):\n",
        "        self.health_boost = 5\n",
        "        self.attack_boost = 3\n",
        "        self.defense_boost = 2\n",
        "        self.evolve = 10\n",
        "\n",
        "    def __str__(self):\n",
        "        self.update()\n",
        "        return \"Pokemon name: {}, Type: {}, Level: {}\".format(self.name, self.p_type, self.level)\n",
        "        \n",
        "    def opponent(self):\n",
        "        return self.weak, self.strong\n",
        "\n",
        "class Grass_Pokemon(Pokemon):\n",
        "    attack = 15\n",
        "    defense = 14\n",
        "    health = 12\n",
        "    p_type = \"Grass\"\n",
        "    \n",
        "    def __init__(self, name,level = 5):\n",
        "        self.name = name\n",
        "        self.level = level\n",
        "        self.weak = \"Fire\"\n",
        "        self.strong = \"Water\"\n",
        "\n",
        "    def update(self):\n",
        "        self.health_boost = 6\n",
        "        self.attack_boost = 2\n",
        "        self.defense_boost = 3\n",
        "        self.evolve = 12\n",
        "\n",
        "class Ghost_Pokemon(Pokemon):\n",
        "    p_type = \"Ghost\"\n",
        "    \n",
        "    def __init__(self, name,level = 5):\n",
        "        self.name = name\n",
        "        self.level = level\n",
        "        self.weak = \"Dark\"\n",
        "        self.strong = \"Psychic\"\n",
        "    \n",
        "    def update(self):\n",
        "        self.health_boost = 3\n",
        "        self.attack_boost = 4\n",
        "        self.defense_boost = 3\n",
        "\n",
        "class Fire_Pokemon(Pokemon):\n",
        "    p_type = \"Fire\"\n",
        "    \n",
        "    def __init__(self, name,level = 5):\n",
        "        self.name = name\n",
        "        self.level = level\n",
        "        self.weak = \"Water\"\n",
        "        self.strong = \"Grass\"    \n",
        "\n",
        "class Flying_Pokemon(Pokemon):\n",
        "    p_type = \"Flying\"\n",
        "\n",
        "    def __init__(self, name,level = 5):\n",
        "        self.name = name\n",
        "        self.level = level\n",
        "        self.weak = \"Electric\"\n",
        "        self.strong = \"Fighting\"  "
      ],
      "execution_count": 67,
      "outputs": []
    },
    {
      "cell_type": "code",
      "metadata": {
        "id": "AeWjuHMIHw0e"
      },
      "source": [
        "p=Pokemon('Grass')  #, .opponent() should return the tuple ('Fire', 'Water')   'Grass'"
      ],
      "execution_count": 69,
      "outputs": []
    },
    {
      "cell_type": "code",
      "metadata": {
        "id": "wvCw4a8_Jk8V"
      },
      "source": [
        ""
      ],
      "execution_count": null,
      "outputs": []
    }
  ]
}