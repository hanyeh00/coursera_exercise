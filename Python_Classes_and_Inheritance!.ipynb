{
  "nbformat": 4,
  "nbformat_minor": 0,
  "metadata": {
    "accelerator": "GPU",
    "colab": {
      "name": "week1.ipynb",
      "provenance": [],
      "authorship_tag": "ABX9TyMykh3yBZqpIYBxO729bBIp",
      "include_colab_link": true
    },
    "kernelspec": {
      "display_name": "Python 3",
      "name": "python3"
    }
  },
  "cells": [
    {
      "cell_type": "markdown",
      "metadata": {
        "id": "view-in-github",
        "colab_type": "text"
      },
      "source": [
        "<a href=\"https://colab.research.google.com/github/hanyeh00/coursera_exercise/blob/main/Python_Classes_and_Inheritance!.ipynb\" target=\"_parent\"><img src=\"https://colab.research.google.com/assets/colab-badge.svg\" alt=\"Open In Colab\"/></a>"
      ]
    },
    {
      "cell_type": "code",
      "metadata": {
        "colab": {
          "base_uri": "https://localhost:8080/"
        },
        "id": "n5YPVsobCZGt",
        "outputId": "8cbaf1d4-14bc-4748-d997-02a9ddb4a49a"
      },
      "source": [
        "print('hello world') "
      ],
      "execution_count": null,
      "outputs": [
        {
          "output_type": "stream",
          "text": [
            "hello world\n"
          ],
          "name": "stdout"
        }
      ]
    },
    {
      "cell_type": "markdown",
      "metadata": {
        "id": "pMPURIAHSePq"
      },
      "source": [
        "#learning\n",
        "##how to programming\n",
        "###print\n",
        "\n",
        "\n"
      ]
    },
    {
      "cell_type": "code",
      "metadata": {
        "id": "IpAZaSElS1tK"
      },
      "source": [
        "l=[1,2,3,'f']"
      ],
      "execution_count": null,
      "outputs": []
    },
    {
      "cell_type": "code",
      "metadata": {
        "colab": {
          "base_uri": "https://localhost:8080/"
        },
        "id": "z_A5IawtayzB",
        "outputId": "617f62a7-3c21-4cd5-d88b-2b0d0f318d05"
      },
      "source": [
        "type(l)"
      ],
      "execution_count": null,
      "outputs": [
        {
          "output_type": "execute_result",
          "data": {
            "text/plain": [
              "list"
            ]
          },
          "metadata": {
            "tags": []
          },
          "execution_count": 3
        }
      ]
    },
    {
      "cell_type": "code",
      "metadata": {
        "id": "p8i2R6lxa1Nc"
      },
      "source": [
        "d={'data':4,'float':2.5, 's':\"thisis my first dictionary\"} # dict"
      ],
      "execution_count": null,
      "outputs": []
    },
    {
      "cell_type": "code",
      "metadata": {
        "colab": {
          "base_uri": "https://localhost:8080/"
        },
        "id": "Vtd3HVOha1ap",
        "outputId": "d52f2efc-1e06-4f62-ce61-87a5da8afe49"
      },
      "source": [
        "d['data']"
      ],
      "execution_count": null,
      "outputs": [
        {
          "output_type": "execute_result",
          "data": {
            "text/plain": [
              "4"
            ]
          },
          "metadata": {
            "tags": []
          },
          "execution_count": 6
        }
      ]
    },
    {
      "cell_type": "code",
      "metadata": {
        "id": "wgIPm4DdbMPJ"
      },
      "source": [
        "n=None"
      ],
      "execution_count": null,
      "outputs": []
    },
    {
      "cell_type": "code",
      "metadata": {
        "colab": {
          "base_uri": "https://localhost:8080/"
        },
        "id": "6RCzqwbZbMRY",
        "outputId": "a42bd2bb-4308-4ab5-ffd1-e833e31a0ebc"
      },
      "source": [
        "type(n)"
      ],
      "execution_count": null,
      "outputs": [
        {
          "output_type": "execute_result",
          "data": {
            "text/plain": [
              "NoneType"
            ]
          },
          "metadata": {
            "tags": []
          },
          "execution_count": 9
        }
      ]
    },
    {
      "cell_type": "code",
      "metadata": {
        "colab": {
          "base_uri": "https://localhost:8080/"
        },
        "id": "eM-zecY5bMUx",
        "outputId": "1a3e9aff-3ccf-4254-b7b7-905784ee70eb"
      },
      "source": [
        "f=4.5\n",
        "i=4\n",
        "print('our first value is float {} . our second value is {}'. format(f,i)) \n",
        "\n",
        "print('{} {}'.format(i,f))"
      ],
      "execution_count": null,
      "outputs": [
        {
          "output_type": "stream",
          "text": [
            "our first value is float 4.5 . our second value is 4\n",
            "4 4.5\n"
          ],
          "name": "stdout"
        }
      ]
    },
    {
      "cell_type": "code",
      "metadata": {
        "id": "wPsotPJ0bMm2"
      },
      "source": [
        ""
      ],
      "execution_count": null,
      "outputs": []
    },
    {
      "cell_type": "markdown",
      "metadata": {
        "id": "VsKmpvRWdj-_"
      },
      "source": [
        "#conditional sentences"
      ]
    },
    {
      "cell_type": "code",
      "metadata": {
        "colab": {
          "base_uri": "https://localhost:8080/"
        },
        "id": "QwoL_wZZbMqG",
        "outputId": "aca843f4-4881-43e4-ab17-8792fa6d1364"
      },
      "source": [
        "if f==4.5 and i>4:\n",
        "  print('i') \n",
        "elif f==4 and i>2:\n",
        "  print('{}'.format(i))\n",
        "elif f==4.5 and i>7:\n",
        "  print('{}'.format(f))\n",
        "else:\n",
        "  print('none')"
      ],
      "execution_count": null,
      "outputs": [
        {
          "output_type": "stream",
          "text": [
            "none\n"
          ],
          "name": "stdout"
        }
      ]
    },
    {
      "cell_type": "code",
      "metadata": {
        "colab": {
          "base_uri": "https://localhost:8080/"
        },
        "id": "AnGs4s2ddocZ",
        "outputId": "6ae50886-1b56-47f4-ab45-cd88e943b2e1"
      },
      "source": [
        "l"
      ],
      "execution_count": null,
      "outputs": [
        {
          "output_type": "execute_result",
          "data": {
            "text/plain": [
              "[1, 2, 3, 'f']"
            ]
          },
          "metadata": {
            "tags": []
          },
          "execution_count": 27
        }
      ]
    },
    {
      "cell_type": "code",
      "metadata": {
        "colab": {
          "base_uri": "https://localhost:8080/"
        },
        "id": "evKXve_IdofQ",
        "outputId": "456ba55e-17ef-49d8-f3d4-2123b6dad8ce"
      },
      "source": [
        "for element in l:\n",
        "  print(element)"
      ],
      "execution_count": null,
      "outputs": [
        {
          "output_type": "stream",
          "text": [
            "1\n",
            "2\n",
            "3\n",
            "f\n"
          ],
          "name": "stdout"
        }
      ]
    },
    {
      "cell_type": "code",
      "metadata": {
        "colab": {
          "base_uri": "https://localhost:8080/"
        },
        "id": "e8Ln9w4SdoiQ",
        "outputId": "0d128cd2-bc13-4fa5-a681-1b188c8eba14"
      },
      "source": [
        "counter=6\n",
        "while counter <10:\n",
        "  print(counter)\n",
        "  counter +=1"
      ],
      "execution_count": null,
      "outputs": [
        {
          "output_type": "stream",
          "text": [
            "6\n",
            "7\n",
            "8\n",
            "9\n"
          ],
          "name": "stdout"
        }
      ]
    },
    {
      "cell_type": "code",
      "metadata": {
        "id": "R25rCCHSga2f"
      },
      "source": [
        ""
      ],
      "execution_count": null,
      "outputs": []
    },
    {
      "cell_type": "markdown",
      "metadata": {
        "id": "rW3noGmrg0ZN"
      },
      "source": [
        "#creating function:\n"
      ]
    },
    {
      "cell_type": "code",
      "metadata": {
        "colab": {
          "base_uri": "https://localhost:8080/"
        },
        "id": "yXF3ZP_Yga5T",
        "outputId": "ec3e0ef6-5aa7-4f0b-c0b2-bf435562d0ab"
      },
      "source": [
        "def find_even_odd(x):\n",
        "  if x%2==0:\n",
        "    print(\"x is even\")\n",
        "  else:\n",
        "    print(\"x is odd\")\n",
        "x=14\n",
        "find_even_odd(x)"
      ],
      "execution_count": null,
      "outputs": [
        {
          "output_type": "stream",
          "text": [
            "x is even\n"
          ],
          "name": "stdout"
        }
      ]
    },
    {
      "cell_type": "code",
      "metadata": {
        "colab": {
          "base_uri": "https://localhost:8080/"
        },
        "id": "5oaaebF0ga8h",
        "outputId": "788bc51b-bfc9-4b78-fd23-dcfb789df3c3"
      },
      "source": [
        "def multi(j):\n",
        "  j=j*2\n",
        "  return j\n",
        "\n",
        "print(multi(x))"
      ],
      "execution_count": null,
      "outputs": [
        {
          "output_type": "stream",
          "text": [
            "28\n"
          ],
          "name": "stdout"
        }
      ]
    },
    {
      "cell_type": "code",
      "metadata": {
        "id": "F6tib-G9h6pg"
      },
      "source": [
        "import pandas\n",
        "df = pandas.DataFrame()"
      ],
      "execution_count": null,
      "outputs": []
    },
    {
      "cell_type": "code",
      "metadata": {
        "id": "btu347Yrh6rn"
      },
      "source": [
        ""
      ],
      "execution_count": null,
      "outputs": []
    },
    {
      "cell_type": "markdown",
      "metadata": {
        "id": "c0bwe1-dW3W8"
      },
      "source": [
        "# class inherited\n",
        "* name of class should start with capital letter\n",
        "* instances\n",
        "\n",
        "\n",
        "#### , what kind of data do you actually want to represent with your class?\n",
        "####Is it a list of songs?\n",
        "####Is it a list of students?\n",
        "\n",
        "what does one particular instance represent of this class?\n",
        "So if it's a list of songs,\n",
        "one particular instance might represent a song.\n",
        "One particular instance of a list of students might represent one particular student.\n",
        "Then from there you should ask yourself,\n",
        "what are the instance variables?\n",
        "What's unique to every instance that I might have?\n",
        "So\n",
        " ### if it's a list of students,\n",
        "it might be something like a name, a student ID.\n",
        "###If it's a list of songs,\n",
        "it might be the artist,\n",
        "the track name, the length, et cetera.\n",
        "Then after you know that you should also ask,\n",
        "what methods might you actually want?\n",
        "### if every instance is a particular song,\n",
        "then you might have a method,\n",
        "for example, to paying an external API to get the lyrics for that song.\n",
        "### If it's a student, you might want to have a method to,\n",
        "for example, send a message to that student.\n",
        "It depends again on what your instances represent.\n",
        "Then finally, you should ask yourself,\n",
        "what does the printed representation of an instance look like?\n",
        "## if I print out a particular song,\n",
        "then I might want to print out the track name,\n",
        "and then the album name, and maybe the length.\n",
        "You should have answers to all of these questions\n",
        "before you start writing code for classes.\n",
        "Now, it's important to know that designing\n",
        "classes is really more of an art than a science.\n",
        "It's very **common** to also refactor or\n",
        "rewrite classes in instance variables and methods even for experts.\n",
        "But all of this comes more with practice.\n",
        "That's all for now. Until next time. "
      ]
    },
    {
      "cell_type": "code",
      "metadata": {
        "id": "cs2IntOHZAji"
      },
      "source": [
        "class Points():\n",
        "  pass\n",
        "\n",
        "point1= Points()\n",
        "point2=Points()"
      ],
      "execution_count": null,
      "outputs": []
    },
    {
      "cell_type": "code",
      "metadata": {
        "colab": {
          "base_uri": "https://localhost:8080/"
        },
        "id": "cOnEpMtSaBJr",
        "outputId": "5cc32462-ba72-4cfa-b449-32a51d6d6738"
      },
      "source": [
        "print(point1)"
      ],
      "execution_count": null,
      "outputs": [
        {
          "output_type": "stream",
          "text": [
            "<__main__.Points object at 0x7f838171aef0>\n"
          ],
          "name": "stdout"
        }
      ]
    },
    {
      "cell_type": "code",
      "metadata": {
        "colab": {
          "base_uri": "https://localhost:8080/"
        },
        "id": "xJJBhgyoaL1C",
        "outputId": "d6d4524b-4c99-42cb-a27b-77e1df2d75b8"
      },
      "source": [
        "point1==point2  #diffrent objects"
      ],
      "execution_count": null,
      "outputs": [
        {
          "output_type": "execute_result",
          "data": {
            "text/plain": [
              "False"
            ]
          },
          "metadata": {
            "tags": []
          },
          "execution_count": 6
        }
      ]
    },
    {
      "cell_type": "code",
      "metadata": {
        "colab": {
          "base_uri": "https://localhost:8080/"
        },
        "id": "-paLm7kuac9w",
        "outputId": "ff4263eb-b139-413e-9ec5-3330fdb88834"
      },
      "source": [
        "point1.x=5\n",
        "point2.x=10\n",
        "print(point1.x)\n",
        "print(point2.x)"
      ],
      "execution_count": null,
      "outputs": [
        {
          "output_type": "stream",
          "text": [
            "5\n",
            "10\n"
          ],
          "name": "stdout"
        }
      ]
    },
    {
      "cell_type": "markdown",
      "metadata": {
        "id": "6hVwMnYubVmR"
      },
      "source": [
        "# method is like a function and it defines in class\n",
        "#### method always have an agument called **self**\n"
      ]
    },
    {
      "cell_type": "code",
      "metadata": {
        "colab": {
          "base_uri": "https://localhost:8080/"
        },
        "id": "qrwXjRE6aw-b",
        "outputId": "f725892b-a043-4120-8305-236d5316cfb3"
      },
      "source": [
        "class Points():\n",
        "  def __init__(self,x,y):\n",
        "    self.x=x\n",
        "    self.y=y\n",
        "  def getX(self): #method\n",
        "    return self.x\n",
        "  \n",
        "\n",
        "point3=Points(25,14)\n",
        "point4=Points(1,16)\n",
        "\n",
        "#print(point3.x)\n",
        "print(point3.getX())\n"
      ],
      "execution_count": null,
      "outputs": [
        {
          "output_type": "stream",
          "text": [
            "25\n"
          ],
          "name": "stdout"
        }
      ]
    },
    {
      "cell_type": "markdown",
      "metadata": {
        "id": "NiZJTGqEa-gR"
      },
      "source": [
        "#Creating Instances "
      ]
    },
    {
      "cell_type": "code",
      "metadata": {
        "id": "1U_xZm2PadBK"
      },
      "source": [
        "CityName=[\"Ditroit\",\"Ann\",\"Piterzburg\",\"Mars\",\"NewYork\"]\n",
        "population=[60000,25025,36000,26547,325698720]\n",
        "state=[\"MA\",\"AN\",\"PI\",\"mn\",\"NY\"]\n",
        "city=zip(CityName,population,state)\n",
        "\n",
        "class City():\n",
        "  def __init__(self,n,pop,s):\n",
        "\n",
        "    self.name=n\n",
        "    self.population=pop\n",
        "    self.state=s\n",
        "  def __str__(self):\n",
        "    return '{},{},(pop:{})'.format(self.name,self.population,self.state)\n",
        "     "
      ],
      "execution_count": null,
      "outputs": []
    },
    {
      "cell_type": "code",
      "metadata": {
        "id": "Q1nf8eknaxKK"
      },
      "source": [
        "cities=[City(n,p,s) for(n,p,s) in city]\n",
        "  \n"
      ],
      "execution_count": null,
      "outputs": []
    },
    {
      "cell_type": "markdown",
      "metadata": {
        "id": "8My-Bvz3D5FO"
      },
      "source": [
        "# Converting an Object to a String"
      ]
    },
    {
      "cell_type": "code",
      "metadata": {
        "id": "sjUY6d3nDFrA"
      },
      "source": [
        "class Point():\n",
        "  def __init__(self,X,Y):\n",
        "    self.x=X\n",
        "    self.y=Y\n",
        "    \n",
        "  def get_x(self):\n",
        "    return self.x\n",
        "  def get_y(self):\n",
        "    return self.y\n",
        "  def distance(self):\n",
        "    z=(self.x**2+self.y**2)**0.5\n",
        "    return (z)\n",
        "  def __str__(self):\n",
        " \n",
        "    return ('{},{}'.format(self.x,self.y))\n",
        "point=Point(6,7)\n",
        "print (point)\n"
      ],
      "execution_count": 29,
      "outputs": []
    },
    {
      "cell_type": "code",
      "metadata": {
        "id": "eNioWqQEDFuf",
        "colab": {
          "base_uri": "https://localhost:8080/"
        },
        "outputId": "aa50f839-9492-49ab-f8d0-101336df457d"
      },
      "source": [
        "class Point():\n",
        "  def __init__(self,X,Y):\n",
        "    self.x=X\n",
        "    self.y=Y\n",
        "  def __str__(self):\n",
        "    return 'Point ({},{})'.format(self.x,self.y)\n",
        " \n",
        "  def __add__(self, others):\n",
        "    return Point(self.x + others.x, self.y + others.y)\n",
        "p1=Point(6,5)\n",
        "p2=Point(4,3)\n",
        "#print(p1 + p2)\n",
        "print((p1 + p2))\n"
      ],
      "execution_count": 47,
      "outputs": [
        {
          "output_type": "stream",
          "text": [
            "Point (10,8)\n"
          ],
          "name": "stdout"
        }
      ]
    },
    {
      "cell_type": "code",
      "metadata": {
        "id": "d5_x6ll_DFxv"
      },
      "source": [
        "class Halfway():\n",
        "  def __init__(self,X,Y):\n",
        "    self.x=X\n",
        "    self.y=Y\n",
        "  def half(self,p):\n",
        "    mx=(self.x+p.x)/2\n",
        "    my=(self.y+p.y)/2\n",
        "    return Halfway(mx,my)\n",
        "  def __str__(self):\n",
        "    return (\"x is :{} , y is :{}\".format(self.x, self.y))\n",
        "\n",
        "point1=Halfway(12,8)\n",
        "Point2=Halfway(6,4)\n",
        "G=Point2.half(point1)"
      ],
      "execution_count": 69,
      "outputs": []
    },
    {
      "cell_type": "code",
      "metadata": {
        "id": "1fYmTr4CDGOT",
        "colab": {
          "base_uri": "https://localhost:8080/"
        },
        "outputId": "fbdfd58f-8e47-409b-dcec-d97dd6db41f9"
      },
      "source": [
        "print(G)"
      ],
      "execution_count": 74,
      "outputs": [
        {
          "output_type": "stream",
          "text": [
            "x is :9.0 , y is :6.0\n"
          ],
          "name": "stdout"
        }
      ]
    },
    {
      "cell_type": "markdown",
      "metadata": {
        "id": "Y4VdODnbWIOC"
      },
      "source": [
        "#sort"
      ]
    },
    {
      "cell_type": "code",
      "metadata": {
        "colab": {
          "base_uri": "https://localhost:8080/"
        },
        "id": "P422xRyQWKOQ",
        "outputId": "4f7d0554-7ed3-4233-e61c-3e8a7a3fe647"
      },
      "source": [
        "class Fruit():\n",
        "  def __init__(self,name,price):\n",
        "    self.name=name\n",
        "    self.p=price\n",
        "  def sort_p(self):\n",
        "    return (self.p)\n",
        "  def __str__(self):\n",
        "    return (\"{},{}\".format(self.name, self.p))\n",
        "\n",
        "\n",
        "L=[Fruit('apple',25), Fruit('orange',30),Fruit(\"peach\",45)]\n",
        "for f in (sorted(L, key=Fruit.sort_p)):\n",
        "  print(f.name)\n"
      ],
      "execution_count": 68,
      "outputs": [
        {
          "output_type": "stream",
          "text": [
            "apple\n",
            "orange\n",
            "peach\n"
          ],
          "name": "stdout"
        }
      ]
    },
    {
      "cell_type": "markdown",
      "metadata": {
        "id": "u8ZOM7DzZfVx"
      },
      "source": [
        "#Class Variables and Instance Variables"
      ]
    },
    {
      "cell_type": "code",
      "metadata": {
        "id": "sOe1W0BbXw4u"
      },
      "source": [
        ""
      ],
      "execution_count": null,
      "outputs": []
    },
    {
      "cell_type": "code",
      "metadata": {
        "id": "nT21Qc6bZlEs"
      },
      "source": [
        ""
      ],
      "execution_count": null,
      "outputs": []
    },
    {
      "cell_type": "code",
      "metadata": {
        "id": "6j0H4oiBZlS0"
      },
      "source": [
        ""
      ],
      "execution_count": null,
      "outputs": []
    },
    {
      "cell_type": "code",
      "metadata": {
        "id": "xT7Jr6dxZllP"
      },
      "source": [
        ""
      ],
      "execution_count": null,
      "outputs": []
    },
    {
      "cell_type": "markdown",
      "metadata": {
        "id": "tyPctx83DaBU"
      },
      "source": [
        "Define a class called Bike that accepts a string and a float as input, and assigns those inputs respectively to two instance variables, color and price. Assign to the variable testOne an instance of Bike whose color is blue and whose price is 89.99. Assign to the variable testTwo an instance of Bike whose color is purple and whose price is 25.0."
      ]
    },
    {
      "cell_type": "code",
      "metadata": {
        "id": "r-98cTLYp4fJ"
      },
      "source": [
        "class Bike():\n",
        "    def __init__(self,color,price):\n",
        "        self.c=color\n",
        "        self.p=price\n",
        "      \n",
        "        return print('color is:{}, priceis:{}'.format(self.c,self.p))\n"
      ],
      "execution_count": null,
      "outputs": []
    },
    {
      "cell_type": "code",
      "metadata": {
        "colab": {
          "base_uri": "https://localhost:8080/"
        },
        "id": "eMOjwst43EaY",
        "outputId": "6ec2163a-39ef-42e4-d232-55f046c18208"
      },
      "source": [
        "    \n",
        "testOne=Bike('blue',89.99)\n",
        "testTwo=Bike('purple',25.0)"
      ],
      "execution_count": null,
      "outputs": [
        {
          "output_type": "stream",
          "text": [
            "color is:blue, priceis:89.99\n",
            "color is:purple, priceis:25.0\n"
          ],
          "name": "stdout"
        }
      ]
    },
    {
      "cell_type": "markdown",
      "metadata": {
        "id": "eQ8kiiVDCBki"
      },
      "source": [
        "Create a class called AppleBasket whose constructor accepts two inputs: a string representing a color, and a number representing a quantity of apples. The constructor should initialize two instance variables: apple_color and apple_quantity. Write a class method called increase that increases the quantity by 1 each time it is invoked. You should also write a __str__ method for this class that returns a string of the format: \"A basket of [quantity goes here] [color goes here] apples.\" e.g. \"A basket of 4 red apples.\" or \"A basket of 50 blue apples.\" (Writing some test code that creates instances and assigns values to variables may help you solve this problem!)"
      ]
    },
    {
      "cell_type": "code",
      "metadata": {
        "colab": {
          "base_uri": "https://localhost:8080/"
        },
        "id": "JnmfdnD1_1Kh",
        "outputId": "944e3b39-57ac-4d74-b135-e6c5eb4d3cae"
      },
      "source": [
        "class AppleBasket():\n",
        "    def __init__(self,color,quality):\n",
        "        self.apple_color=color\n",
        "        self.apple_quantity=quality\n",
        "    def increase (self):\n",
        "          self.apple_quantity=self.apple_quantity+1\n",
        "    def __str__(self):\n",
        "        return (\"A basket of {} {} apples.\".format(self.apple_quantity, self.apple_color))\n",
        "        \n",
        "        \n",
        "q=AppleBasket('red',4)\n",
        "print(q)\n",
        "p=q.increase()\n",
        "print(q)"
      ],
      "execution_count": null,
      "outputs": [
        {
          "output_type": "stream",
          "text": [
            "A basket of 4 red apples.\n",
            "A basket of 5 red apples.\n"
          ],
          "name": "stdout"
        }
      ]
    },
    {
      "cell_type": "markdown",
      "metadata": {
        "id": "Ml_YQoXSDXUY"
      },
      "source": [
        "Define a class called BankAccount that accepts the name you want associated with your bank account in a string, and an integer that represents the amount of money in the account. The constructor should initialize two instance variables from those inputs: name and amt. Add a string method so that when you print an instance of BankAccount, you see \"Your account, [name goes here], has [start_amt goes here] dollars.\" Create an instance of this class with \"Bob\" as the name and 100 as the amount. Save this to the variable t1."
      ]
    },
    {
      "cell_type": "code",
      "metadata": {
        "id": "Ii-kYvEIDIYj"
      },
      "source": [
        "class BankAccount():\n",
        "    def __init__(self,name,amt):\n",
        "        self.name=name\n",
        "        self.amt=amt\n",
        "    def __str__(self):\n",
        "        return ( \"Your account, {}, has {} dollars.\"\n",
        "               .format(self.name,self.amt))\n",
        "        \n",
        "t1=BankAccount('Bob',100)\n",
        "\n"
      ],
      "execution_count": null,
      "outputs": []
    }
  ]
}
